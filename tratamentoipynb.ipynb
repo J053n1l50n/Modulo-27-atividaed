{
  "nbformat": 4,
  "nbformat_minor": 0,
  "metadata": {
    "colab": {
      "provenance": [],
      "authorship_tag": "ABX9TyMtUCFyeAFCmdhmctDi1okc",
      "include_colab_link": true
    },
    "kernelspec": {
      "name": "python3",
      "display_name": "Python 3"
    },
    "language_info": {
      "name": "python"
    }
  },
  "cells": [
    {
      "cell_type": "markdown",
      "metadata": {
        "id": "view-in-github",
        "colab_type": "text"
      },
      "source": [
        "<a href=\"https://colab.research.google.com/github/J053n1l50n/Modulo-27-atividaed/blob/main/tratamentoipynb.ipynb\" target=\"_parent\"><img src=\"https://colab.research.google.com/assets/colab-badge.svg\" alt=\"Open In Colab\"/></a>"
      ]
    },
    {
      "cell_type": "code",
      "execution_count": null,
      "metadata": {
        "colab": {
          "base_uri": "https://localhost:8080/"
        },
        "id": "4myWDxEeH2UC",
        "outputId": "a9835f57-380f-433e-a75a-9fe746093e3f"
      },
      "outputs": [
        {
          "output_type": "stream",
          "name": "stdout",
          "text": [
            "Requirement already satisfied: pyspark in /usr/local/lib/python3.11/dist-packages (3.5.1)\n",
            "Requirement already satisfied: py4j==0.10.9.7 in /usr/local/lib/python3.11/dist-packages (from pyspark) (0.10.9.7)\n"
          ]
        }
      ],
      "source": [
        "!pip install pyspark"
      ]
    },
    {
      "cell_type": "code",
      "source": [
        "import pyspark\n",
        "from pyspark.sql import SparkSession\n",
        "import pandas as pd\n",
        "from pyspark.sql.functions import *"
      ],
      "metadata": {
        "id": "_F_ne8DWIEup"
      },
      "execution_count": null,
      "outputs": []
    },
    {
      "cell_type": "code",
      "source": [
        "Spark = SparkSession.builder.getOrCreate()"
      ],
      "metadata": {
        "id": "92Sb6ILGI5KD"
      },
      "execution_count": null,
      "outputs": []
    },
    {
      "cell_type": "code",
      "source": [
        "df_video = Spark.read.csv('videos-stats.csv', header=True, inferSchema=True)\n",
        "df_comentario= Spark.read.csv('comments.csv', header=True, inferSchema=True)"
      ],
      "metadata": {
        "id": "N0VRNTi1I_oW"
      },
      "execution_count": null,
      "outputs": []
    },
    {
      "cell_type": "code",
      "source": [
        "campo=['Likes', 'Comments', 'Views' ]\n",
        "for col in campo:\n",
        "  nulo=df_video.filter(df_video[col].isNull())\n",
        "  df_video=df_video.na.fill(0, subset=col)\n",
        "  df_video.show()\n",
        "  df_video.filter(df_video[col]==0).show()\n"
      ],
      "metadata": {
        "colab": {
          "base_uri": "https://localhost:8080/"
        },
        "id": "ue6f1eJ1Y1Sl",
        "outputId": "765c15f2-5ec6-4981-fc74-bc63d6aa2dd6"
      },
      "execution_count": null,
      "outputs": [
        {
          "output_type": "stream",
          "name": "stdout",
          "text": [
            "+---+--------------------+-----------+------------+-------+--------+--------+-----------+\n",
            "|_c0|               Title|   Video ID|Published At|Keyword|   Likes|Comments|      Views|\n",
            "+---+--------------------+-----------+------------+-------+--------+--------+-----------+\n",
            "|  0|Apple Pay Is Kill...|wAZZ-UWGVHI|  2022-08-23|   tech|  3407.0|   672.0|   135612.0|\n",
            "|  1|The most EXPENSIV...|b3x28s61q3c|  2022-08-24|   tech| 76779.0|  4306.0|  1758063.0|\n",
            "|  2|My New House Gami...|4mgePWWCAmA|  2022-08-23|   tech| 63825.0|  3338.0|  1564007.0|\n",
            "|  3|Petrol Vs Liquid ...|kXiYSI7H2b0|  2022-08-23|   tech| 71566.0|  1426.0|   922918.0|\n",
            "|  4|Best Back to Scho...|ErMwWXQxHp0|  2022-08-08|   tech| 96513.0|  5155.0|  1855644.0|\n",
            "|  5|Brewmaster Answer...|18fwz9Itbvo|  2021-11-05|   tech| 33570.0|  1643.0|   943119.0|\n",
            "|  6|Tech Monopolies: ...|jXf04bhcjbg|  2022-06-13|   tech|135047.0|  9367.0|  5937790.0|\n",
            "|  7|I bought the STRA...|2TqOmtTAMRY|  2022-08-07|   tech|216935.0| 12605.0|  4782514.0|\n",
            "|  8|15 Emerging Techn...|wLlL46pYcg4|  2021-12-08|   tech| 45565.0|  2882.0|  7001236.0|\n",
            "|  9|Toxicologist Answ...|R7qsau3X6Ks|  2022-07-14|   tech| 24252.0|  1068.0|   667767.0|\n",
            "| 10|Dope Tech: The Mo...|MEiq0oCUb_8|  2022-08-15|   tech|118001.0|  4123.0|  2359142.0|\n",
            "| 11|Cool Tech Under $...|pT_9hntWj34|  2022-08-06|   tech| 20999.0|  3091.0|   413179.0|\n",
            "| 12|Cool Back to Scho...|cj4lxmHQV0o|  2022-08-13|   tech| 15322.0|   547.0|   389114.0|\n",
            "| 13|Best Tech/EDC Gif...|d-BdIo8_wpA|  2021-12-15|   tech| 17866.0|   157.0|   444953.0|\n",
            "| 14|My Massive Tech U...|eFhhW6fsAbQ|  2022-07-09|   tech| 13217.0|   442.0|   371563.0|\n",
            "| 15|Why Millennials A...|N88OE2ZCHBM|  2021-06-04|   tech| 26890.0|  4999.0|  1633059.0|\n",
            "| 16|10 Coolest Gadget...|PKATJiyz0iI|  2021-08-13|   tech|  9562.0|   199.0|   760249.0|\n",
            "| 17|17 Coolest Gadget...|qiMnSaZWf3M|  2022-07-21|   tech| 11743.0|   143.0|  1086568.0|\n",
            "| 18|Almost EVERYONE i...|4AnyhHl3_tE|  2022-08-14|   tech|146978.0| 11105.0|  3186890.0|\n",
            "| 19|I bought the THIN...|nmY2kgWYwyQ|  2022-03-25|   tech|363771.0| 13609.0|1.1422924E7|\n",
            "+---+--------------------+-----------+------------+-------+--------+--------+-----------+\n",
            "only showing top 20 rows\n",
            "\n",
            "+----+--------------------+-----------+------------+----------------+-----+--------+-----+\n",
            "| _c0|               Title|   Video ID|Published At|         Keyword|Likes|Comments|Views|\n",
            "+----+--------------------+-----------+------------+----------------+-----+--------+-----+\n",
            "|1393|Mathematics and C...|V_vguZj_7FE|  2013-04-15|   mathchemistry|  0.0|     1.0| 25.0|\n",
            "|1879|What is Machine L...|f_uwKZIAeM0|  2017-01-11|machine learning|  0.0|    NULL| NULL|\n",
            "|1880|Don&#39;t learn m...|cyLWtMSry58|  2020-03-30|machine learning|  0.0|    NULL| NULL|\n",
            "+----+--------------------+-----------+------------+----------------+-----+--------+-----+\n",
            "\n",
            "+---+--------------------+-----------+------------+-------+--------+--------+-----------+\n",
            "|_c0|               Title|   Video ID|Published At|Keyword|   Likes|Comments|      Views|\n",
            "+---+--------------------+-----------+------------+-------+--------+--------+-----------+\n",
            "|  0|Apple Pay Is Kill...|wAZZ-UWGVHI|  2022-08-23|   tech|  3407.0|   672.0|   135612.0|\n",
            "|  1|The most EXPENSIV...|b3x28s61q3c|  2022-08-24|   tech| 76779.0|  4306.0|  1758063.0|\n",
            "|  2|My New House Gami...|4mgePWWCAmA|  2022-08-23|   tech| 63825.0|  3338.0|  1564007.0|\n",
            "|  3|Petrol Vs Liquid ...|kXiYSI7H2b0|  2022-08-23|   tech| 71566.0|  1426.0|   922918.0|\n",
            "|  4|Best Back to Scho...|ErMwWXQxHp0|  2022-08-08|   tech| 96513.0|  5155.0|  1855644.0|\n",
            "|  5|Brewmaster Answer...|18fwz9Itbvo|  2021-11-05|   tech| 33570.0|  1643.0|   943119.0|\n",
            "|  6|Tech Monopolies: ...|jXf04bhcjbg|  2022-06-13|   tech|135047.0|  9367.0|  5937790.0|\n",
            "|  7|I bought the STRA...|2TqOmtTAMRY|  2022-08-07|   tech|216935.0| 12605.0|  4782514.0|\n",
            "|  8|15 Emerging Techn...|wLlL46pYcg4|  2021-12-08|   tech| 45565.0|  2882.0|  7001236.0|\n",
            "|  9|Toxicologist Answ...|R7qsau3X6Ks|  2022-07-14|   tech| 24252.0|  1068.0|   667767.0|\n",
            "| 10|Dope Tech: The Mo...|MEiq0oCUb_8|  2022-08-15|   tech|118001.0|  4123.0|  2359142.0|\n",
            "| 11|Cool Tech Under $...|pT_9hntWj34|  2022-08-06|   tech| 20999.0|  3091.0|   413179.0|\n",
            "| 12|Cool Back to Scho...|cj4lxmHQV0o|  2022-08-13|   tech| 15322.0|   547.0|   389114.0|\n",
            "| 13|Best Tech/EDC Gif...|d-BdIo8_wpA|  2021-12-15|   tech| 17866.0|   157.0|   444953.0|\n",
            "| 14|My Massive Tech U...|eFhhW6fsAbQ|  2022-07-09|   tech| 13217.0|   442.0|   371563.0|\n",
            "| 15|Why Millennials A...|N88OE2ZCHBM|  2021-06-04|   tech| 26890.0|  4999.0|  1633059.0|\n",
            "| 16|10 Coolest Gadget...|PKATJiyz0iI|  2021-08-13|   tech|  9562.0|   199.0|   760249.0|\n",
            "| 17|17 Coolest Gadget...|qiMnSaZWf3M|  2022-07-21|   tech| 11743.0|   143.0|  1086568.0|\n",
            "| 18|Almost EVERYONE i...|4AnyhHl3_tE|  2022-08-14|   tech|146978.0| 11105.0|  3186890.0|\n",
            "| 19|I bought the THIN...|nmY2kgWYwyQ|  2022-03-25|   tech|363771.0| 13609.0|1.1422924E7|\n",
            "+---+--------------------+-----------+------------+-------+--------+--------+-----------+\n",
            "only showing top 20 rows\n",
            "\n",
            "+----+--------------------+-----------+------------+----------------+-----+--------+-------+\n",
            "| _c0|               Title|   Video ID|Published At|         Keyword|Likes|Comments|  Views|\n",
            "+----+--------------------+-----------+------------+----------------+-----+--------+-------+\n",
            "|1711|TOP SECRET MISSIO...|PIFa7wJ9c0c|  2022-07-18|          movies|643.0|     0.0|24012.0|\n",
            "|1879|What is Machine L...|f_uwKZIAeM0|  2017-01-11|machine learning|  0.0|     0.0|   NULL|\n",
            "|1880|Don&#39;t learn m...|cyLWtMSry58|  2020-03-30|machine learning|  0.0|     0.0|   NULL|\n",
            "+----+--------------------+-----------+------------+----------------+-----+--------+-------+\n",
            "\n",
            "+---+--------------------+-----------+------------+-------+--------+--------+-----------+\n",
            "|_c0|               Title|   Video ID|Published At|Keyword|   Likes|Comments|      Views|\n",
            "+---+--------------------+-----------+------------+-------+--------+--------+-----------+\n",
            "|  0|Apple Pay Is Kill...|wAZZ-UWGVHI|  2022-08-23|   tech|  3407.0|   672.0|   135612.0|\n",
            "|  1|The most EXPENSIV...|b3x28s61q3c|  2022-08-24|   tech| 76779.0|  4306.0|  1758063.0|\n",
            "|  2|My New House Gami...|4mgePWWCAmA|  2022-08-23|   tech| 63825.0|  3338.0|  1564007.0|\n",
            "|  3|Petrol Vs Liquid ...|kXiYSI7H2b0|  2022-08-23|   tech| 71566.0|  1426.0|   922918.0|\n",
            "|  4|Best Back to Scho...|ErMwWXQxHp0|  2022-08-08|   tech| 96513.0|  5155.0|  1855644.0|\n",
            "|  5|Brewmaster Answer...|18fwz9Itbvo|  2021-11-05|   tech| 33570.0|  1643.0|   943119.0|\n",
            "|  6|Tech Monopolies: ...|jXf04bhcjbg|  2022-06-13|   tech|135047.0|  9367.0|  5937790.0|\n",
            "|  7|I bought the STRA...|2TqOmtTAMRY|  2022-08-07|   tech|216935.0| 12605.0|  4782514.0|\n",
            "|  8|15 Emerging Techn...|wLlL46pYcg4|  2021-12-08|   tech| 45565.0|  2882.0|  7001236.0|\n",
            "|  9|Toxicologist Answ...|R7qsau3X6Ks|  2022-07-14|   tech| 24252.0|  1068.0|   667767.0|\n",
            "| 10|Dope Tech: The Mo...|MEiq0oCUb_8|  2022-08-15|   tech|118001.0|  4123.0|  2359142.0|\n",
            "| 11|Cool Tech Under $...|pT_9hntWj34|  2022-08-06|   tech| 20999.0|  3091.0|   413179.0|\n",
            "| 12|Cool Back to Scho...|cj4lxmHQV0o|  2022-08-13|   tech| 15322.0|   547.0|   389114.0|\n",
            "| 13|Best Tech/EDC Gif...|d-BdIo8_wpA|  2021-12-15|   tech| 17866.0|   157.0|   444953.0|\n",
            "| 14|My Massive Tech U...|eFhhW6fsAbQ|  2022-07-09|   tech| 13217.0|   442.0|   371563.0|\n",
            "| 15|Why Millennials A...|N88OE2ZCHBM|  2021-06-04|   tech| 26890.0|  4999.0|  1633059.0|\n",
            "| 16|10 Coolest Gadget...|PKATJiyz0iI|  2021-08-13|   tech|  9562.0|   199.0|   760249.0|\n",
            "| 17|17 Coolest Gadget...|qiMnSaZWf3M|  2022-07-21|   tech| 11743.0|   143.0|  1086568.0|\n",
            "| 18|Almost EVERYONE i...|4AnyhHl3_tE|  2022-08-14|   tech|146978.0| 11105.0|  3186890.0|\n",
            "| 19|I bought the THIN...|nmY2kgWYwyQ|  2022-03-25|   tech|363771.0| 13609.0|1.1422924E7|\n",
            "+---+--------------------+-----------+------------+-------+--------+--------+-----------+\n",
            "only showing top 20 rows\n",
            "\n",
            "+----+--------------------+-----------+------------+----------------+-----+--------+-----+\n",
            "| _c0|               Title|   Video ID|Published At|         Keyword|Likes|Comments|Views|\n",
            "+----+--------------------+-----------+------------+----------------+-----+--------+-----+\n",
            "|1879|What is Machine L...|f_uwKZIAeM0|  2017-01-11|machine learning|  0.0|     0.0|  0.0|\n",
            "|1880|Don&#39;t learn m...|cyLWtMSry58|  2020-03-30|machine learning|  0.0|     0.0|  0.0|\n",
            "+----+--------------------+-----------+------------+----------------+-----+--------+-----+\n",
            "\n"
          ]
        }
      ]
    },
    {
      "cell_type": "code",
      "source": [
        "df_video.printSchema()\n",
        "df_video.show()\n",
        "df_video.count()\n",
        "df_comentario.printSchema()"
      ],
      "metadata": {
        "colab": {
          "base_uri": "https://localhost:8080/"
        },
        "outputId": "2f498b40-8e8d-4259-d43c-d6d44993ff97",
        "id": "XtefJjNUY1io"
      },
      "execution_count": null,
      "outputs": [
        {
          "output_type": "stream",
          "name": "stdout",
          "text": [
            "root\n",
            " |-- _c0: integer (nullable = true)\n",
            " |-- Title: string (nullable = true)\n",
            " |-- Video ID: string (nullable = true)\n",
            " |-- Published At: date (nullable = true)\n",
            " |-- Keyword: string (nullable = true)\n",
            " |-- Likes: double (nullable = false)\n",
            " |-- Comments: double (nullable = false)\n",
            " |-- Views: double (nullable = false)\n",
            "\n",
            "+---+--------------------+-----------+------------+-------+--------+--------+-----------+\n",
            "|_c0|               Title|   Video ID|Published At|Keyword|   Likes|Comments|      Views|\n",
            "+---+--------------------+-----------+------------+-------+--------+--------+-----------+\n",
            "|  0|Apple Pay Is Kill...|wAZZ-UWGVHI|  2022-08-23|   tech|  3407.0|   672.0|   135612.0|\n",
            "|  1|The most EXPENSIV...|b3x28s61q3c|  2022-08-24|   tech| 76779.0|  4306.0|  1758063.0|\n",
            "|  2|My New House Gami...|4mgePWWCAmA|  2022-08-23|   tech| 63825.0|  3338.0|  1564007.0|\n",
            "|  3|Petrol Vs Liquid ...|kXiYSI7H2b0|  2022-08-23|   tech| 71566.0|  1426.0|   922918.0|\n",
            "|  4|Best Back to Scho...|ErMwWXQxHp0|  2022-08-08|   tech| 96513.0|  5155.0|  1855644.0|\n",
            "|  5|Brewmaster Answer...|18fwz9Itbvo|  2021-11-05|   tech| 33570.0|  1643.0|   943119.0|\n",
            "|  6|Tech Monopolies: ...|jXf04bhcjbg|  2022-06-13|   tech|135047.0|  9367.0|  5937790.0|\n",
            "|  7|I bought the STRA...|2TqOmtTAMRY|  2022-08-07|   tech|216935.0| 12605.0|  4782514.0|\n",
            "|  8|15 Emerging Techn...|wLlL46pYcg4|  2021-12-08|   tech| 45565.0|  2882.0|  7001236.0|\n",
            "|  9|Toxicologist Answ...|R7qsau3X6Ks|  2022-07-14|   tech| 24252.0|  1068.0|   667767.0|\n",
            "| 10|Dope Tech: The Mo...|MEiq0oCUb_8|  2022-08-15|   tech|118001.0|  4123.0|  2359142.0|\n",
            "| 11|Cool Tech Under $...|pT_9hntWj34|  2022-08-06|   tech| 20999.0|  3091.0|   413179.0|\n",
            "| 12|Cool Back to Scho...|cj4lxmHQV0o|  2022-08-13|   tech| 15322.0|   547.0|   389114.0|\n",
            "| 13|Best Tech/EDC Gif...|d-BdIo8_wpA|  2021-12-15|   tech| 17866.0|   157.0|   444953.0|\n",
            "| 14|My Massive Tech U...|eFhhW6fsAbQ|  2022-07-09|   tech| 13217.0|   442.0|   371563.0|\n",
            "| 15|Why Millennials A...|N88OE2ZCHBM|  2021-06-04|   tech| 26890.0|  4999.0|  1633059.0|\n",
            "| 16|10 Coolest Gadget...|PKATJiyz0iI|  2021-08-13|   tech|  9562.0|   199.0|   760249.0|\n",
            "| 17|17 Coolest Gadget...|qiMnSaZWf3M|  2022-07-21|   tech| 11743.0|   143.0|  1086568.0|\n",
            "| 18|Almost EVERYONE i...|4AnyhHl3_tE|  2022-08-14|   tech|146978.0| 11105.0|  3186890.0|\n",
            "| 19|I bought the THIN...|nmY2kgWYwyQ|  2022-03-25|   tech|363771.0| 13609.0|1.1422924E7|\n",
            "+---+--------------------+-----------+------------+-------+--------+--------+-----------+\n",
            "only showing top 20 rows\n",
            "\n",
            "root\n",
            " |-- _c0: string (nullable = true)\n",
            " |-- Video ID: string (nullable = true)\n",
            " |-- Comment: string (nullable = true)\n",
            " |-- Likes: string (nullable = true)\n",
            " |-- Sentiment: string (nullable = true)\n",
            "\n"
          ]
        }
      ]
    },
    {
      "cell_type": "code",
      "source": [
        "calculo_geral=df_video.join(df_comentario, df_video['Video ID'] == df_comentario['Video ID'], 'inner')\n",
        "calcular = calculo_geral.count()\n",
        "print(calcular)\n",
        "df_video=df_video.na.drop(subset=['Video ID'])\n",
        "df_comentario=df_comentario.na.drop(subset=['Video ID'])\n",
        "calculo_refeito=df_video.join(df_comentario, df_video['Video ID']==df_comentario['Video ID'], 'inner')\n",
        "calculo_refeito.show()\n",
        "calcular_refaz=calculo_refeito.count()\n",
        "print(calcular_refaz)\n"
      ],
      "metadata": {
        "colab": {
          "base_uri": "https://localhost:8080/"
        },
        "id": "QGH5QnjJZGbA",
        "outputId": "28efeb3c-139b-4579-f33d-7efd286c60d9"
      },
      "execution_count": null,
      "outputs": [
        {
          "output_type": "stream",
          "name": "stdout",
          "text": [
            "18645\n",
            "+---+--------------------+-----------+------------+-------+-------+--------+---------+---+-----------+--------------------+------+---------+\n",
            "|_c0|               Title|   Video ID|Published At|Keyword|  Likes|Comments|    Views|_c0|   Video ID|             Comment| Likes|Sentiment|\n",
            "+---+--------------------+-----------+------------+-------+-------+--------+---------+---+-----------+--------------------+------+---------+\n",
            "|  0|Apple Pay Is Kill...|wAZZ-UWGVHI|  2022-08-23|   tech| 3407.0|   672.0| 135612.0|  0|wAZZ-UWGVHI|Let's not forget ...|  95.0|      1.0|\n",
            "|  0|Apple Pay Is Kill...|wAZZ-UWGVHI|  2022-08-23|   tech| 3407.0|   672.0| 135612.0|  1|wAZZ-UWGVHI|Here in NZ 50% of...|  19.0|      0.0|\n",
            "|  0|Apple Pay Is Kill...|wAZZ-UWGVHI|  2022-08-23|   tech| 3407.0|   672.0| 135612.0|  2|wAZZ-UWGVHI|I will forever ac...| 161.0|      2.0|\n",
            "|  0|Apple Pay Is Kill...|wAZZ-UWGVHI|  2022-08-23|   tech| 3407.0|   672.0| 135612.0|  3|wAZZ-UWGVHI|Whenever I go to ...|   8.0|      0.0|\n",
            "|  0|Apple Pay Is Kill...|wAZZ-UWGVHI|  2022-08-23|   tech| 3407.0|   672.0| 135612.0|  4|wAZZ-UWGVHI|Apple Pay is so c...|  34.0|      2.0|\n",
            "|  0|Apple Pay Is Kill...|wAZZ-UWGVHI|  2022-08-23|   tech| 3407.0|   672.0| 135612.0|  5|wAZZ-UWGVHI|We’ve been houndi...|   8.0|      1.0|\n",
            "|  0|Apple Pay Is Kill...|wAZZ-UWGVHI|  2022-08-23|   tech| 3407.0|   672.0| 135612.0|  6|wAZZ-UWGVHI|We only got Apple...|  29.0|      2.0|\n",
            "|  0|Apple Pay Is Kill...|wAZZ-UWGVHI|  2022-08-23|   tech| 3407.0|   672.0| 135612.0|  7|wAZZ-UWGVHI|For now, I need b...|   7.0|      1.0|\n",
            "|  0|Apple Pay Is Kill...|wAZZ-UWGVHI|  2022-08-23|   tech| 3407.0|   672.0| 135612.0|  8|wAZZ-UWGVHI|In the United Sta...|   2.0|      2.0|\n",
            "|  0|Apple Pay Is Kill...|wAZZ-UWGVHI|  2022-08-23|   tech| 3407.0|   672.0| 135612.0|  9|wAZZ-UWGVHI|In Cambodia, we h...|  28.0|      1.0|\n",
            "|  1|The most EXPENSIV...|b3x28s61q3c|  2022-08-24|   tech|76779.0|  4306.0|1758063.0| 10|b3x28s61q3c|Wow, you really w...|1344.0|      2.0|\n",
            "|  1|The most EXPENSIV...|b3x28s61q3c|  2022-08-24|   tech|76779.0|  4306.0|1758063.0| 11|b3x28s61q3c|The lab is the mo...| 198.0|      2.0|\n",
            "|  1|The most EXPENSIV...|b3x28s61q3c|  2022-08-24|   tech|76779.0|  4306.0|1758063.0| 12|b3x28s61q3c|Linus, I'm an eng...| 365.0|      2.0|\n",
            "|  1|The most EXPENSIV...|b3x28s61q3c|  2022-08-24|   tech|76779.0|  4306.0|1758063.0| 13|b3x28s61q3c|There used to be ...| 211.0|      2.0|\n",
            "|  1|The most EXPENSIV...|b3x28s61q3c|  2022-08-24|   tech|76779.0|  4306.0|1758063.0| 14|b3x28s61q3c|Holy crap. I was ...| 821.0|      0.0|\n",
            "|  1|The most EXPENSIV...|b3x28s61q3c|  2022-08-24|   tech|76779.0|  4306.0|1758063.0| 15|b3x28s61q3c|I love the direct...| 150.0|      2.0|\n",
            "|  1|The most EXPENSIV...|b3x28s61q3c|  2022-08-24|   tech|76779.0|  4306.0|1758063.0| 16|b3x28s61q3c|I am more excited...|  49.0|      2.0|\n",
            "|  1|The most EXPENSIV...|b3x28s61q3c|  2022-08-24|   tech|76779.0|  4306.0|1758063.0| 17|b3x28s61q3c|I adore the worki...|  19.0|      2.0|\n",
            "|  1|The most EXPENSIV...|b3x28s61q3c|  2022-08-24|   tech|76779.0|  4306.0|1758063.0| 18|b3x28s61q3c|LMGs growth is ho...|  NULL|     NULL|\n",
            "|  1|The most EXPENSIV...|b3x28s61q3c|  2022-08-24|   tech|76779.0|  4306.0|1758063.0| 19|b3x28s61q3c|I love all the pe...|2808.0|      2.0|\n",
            "+---+--------------------+-----------+------------+-------+-------+--------+---------+---+-----------+--------------------+------+---------+\n",
            "only showing top 20 rows\n",
            "\n",
            "18645\n"
          ]
        }
      ]
    },
    {
      "cell_type": "code",
      "source": [
        "sem_duplicata= df_video.dropDuplicates(['Video ID'])"
      ],
      "metadata": {
        "id": "-oZpTyNiPp_V"
      },
      "execution_count": null,
      "outputs": []
    },
    {
      "cell_type": "code",
      "source": [
        "df_video= df_video.withColumn('Likes', df_video['Likes'].cast('int')).\\\n",
        "          withColumn('Comments',df_video['Comments'].cast('int')).\\\n",
        "          withColumn('Views',df_video['Views'].cast('int'))\n",
        "df_video.printSchema()"
      ],
      "metadata": {
        "colab": {
          "base_uri": "https://localhost:8080/"
        },
        "id": "l8TFvtX-qf76",
        "outputId": "f12aa537-13df-4f4a-e8a4-b1b281c2b8d6"
      },
      "execution_count": null,
      "outputs": [
        {
          "output_type": "stream",
          "name": "stdout",
          "text": [
            "root\n",
            " |-- _c0: integer (nullable = true)\n",
            " |-- Title: string (nullable = true)\n",
            " |-- Video ID: string (nullable = true)\n",
            " |-- Published At: date (nullable = true)\n",
            " |-- Keyword: string (nullable = true)\n",
            " |-- Likes: integer (nullable = true)\n",
            " |-- Comments: integer (nullable = true)\n",
            " |-- Views: integer (nullable = true)\n",
            "\n"
          ]
        }
      ]
    },
    {
      "cell_type": "code",
      "source": [
        "df_comentario=df_comentario.withColumn('Likes Comment', df_comentario['Likes'].cast('int')).\\\n",
        "                      withColumn('Sentiment', df_comentario['Sentiment'].cast('int'))\n",
        "df_comentario=df_comentario.drop('Likes')\n",
        "df_comentario.printSchema()"
      ],
      "metadata": {
        "colab": {
          "base_uri": "https://localhost:8080/"
        },
        "id": "5oT8rIDPpdtc",
        "outputId": "c7806cd1-f520-4b77-a082-95e527ed798a"
      },
      "execution_count": null,
      "outputs": [
        {
          "output_type": "stream",
          "name": "stdout",
          "text": [
            "root\n",
            " |-- _c0: string (nullable = true)\n",
            " |-- Video ID: string (nullable = true)\n",
            " |-- Comment: string (nullable = true)\n",
            " |-- Sentiment: integer (nullable = true)\n",
            " |-- Likes Comment: integer (nullable = true)\n",
            "\n"
          ]
        }
      ]
    },
    {
      "cell_type": "code",
      "source": [
        "df_video=df_video.withColumn('Interaction',df_video['Likes']+df_video['Comments']+df_video['Views'])\n",
        "df_video.printSchema()\n",
        "df_video.show()"
      ],
      "metadata": {
        "colab": {
          "base_uri": "https://localhost:8080/"
        },
        "id": "boSWTiMCwYqn",
        "outputId": "714ebef0-ee2d-462b-a455-ebe789ae2ce4"
      },
      "execution_count": null,
      "outputs": [
        {
          "output_type": "stream",
          "name": "stdout",
          "text": [
            "root\n",
            " |-- Title: string (nullable = true)\n",
            " |-- Video ID: string (nullable = true)\n",
            " |-- Published At: date (nullable = true)\n",
            " |-- Keyword: string (nullable = true)\n",
            " |-- Likes: integer (nullable = true)\n",
            " |-- Comments: integer (nullable = true)\n",
            " |-- Views: integer (nullable = true)\n",
            " |-- Interaction: integer (nullable = true)\n",
            " |-- Year: integer (nullable = true)\n",
            "\n",
            "+--------------------+-----------+------------+-------+------+--------+--------+-----------+----+\n",
            "|               Title|   Video ID|Published At|Keyword| Likes|Comments|   Views|Interaction|Year|\n",
            "+--------------------+-----------+------------+-------+------+--------+--------+-----------+----+\n",
            "|Apple Pay Is Kill...|wAZZ-UWGVHI|  2022-08-23|   tech|  3407|     672|  135612|     139691|2022|\n",
            "|The most EXPENSIV...|b3x28s61q3c|  2022-08-24|   tech| 76779|    4306| 1758063|    1839148|2022|\n",
            "|My New House Gami...|4mgePWWCAmA|  2022-08-23|   tech| 63825|    3338| 1564007|    1631170|2022|\n",
            "|Petrol Vs Liquid ...|kXiYSI7H2b0|  2022-08-23|   tech| 71566|    1426|  922918|     995910|2022|\n",
            "|Best Back to Scho...|ErMwWXQxHp0|  2022-08-08|   tech| 96513|    5155| 1855644|    1957312|2022|\n",
            "|Brewmaster Answer...|18fwz9Itbvo|  2021-11-05|   tech| 33570|    1643|  943119|     978332|2021|\n",
            "|Tech Monopolies: ...|jXf04bhcjbg|  2022-06-13|   tech|135047|    9367| 5937790|    6082204|2022|\n",
            "|I bought the STRA...|2TqOmtTAMRY|  2022-08-07|   tech|216935|   12605| 4782514|    5012054|2022|\n",
            "|15 Emerging Techn...|wLlL46pYcg4|  2021-12-08|   tech| 45565|    2882| 7001236|    7049683|2021|\n",
            "|Toxicologist Answ...|R7qsau3X6Ks|  2022-07-14|   tech| 24252|    1068|  667767|     693087|2022|\n",
            "|Dope Tech: The Mo...|MEiq0oCUb_8|  2022-08-15|   tech|118001|    4123| 2359142|    2481266|2022|\n",
            "|Cool Tech Under $...|pT_9hntWj34|  2022-08-06|   tech| 20999|    3091|  413179|     437269|2022|\n",
            "|Cool Back to Scho...|cj4lxmHQV0o|  2022-08-13|   tech| 15322|     547|  389114|     404983|2022|\n",
            "|Best Tech/EDC Gif...|d-BdIo8_wpA|  2021-12-15|   tech| 17866|     157|  444953|     462976|2021|\n",
            "|My Massive Tech U...|eFhhW6fsAbQ|  2022-07-09|   tech| 13217|     442|  371563|     385222|2022|\n",
            "|Why Millennials A...|N88OE2ZCHBM|  2021-06-04|   tech| 26890|    4999| 1633059|    1664948|2021|\n",
            "|10 Coolest Gadget...|PKATJiyz0iI|  2021-08-13|   tech|  9562|     199|  760249|     770010|2021|\n",
            "|17 Coolest Gadget...|qiMnSaZWf3M|  2022-07-21|   tech| 11743|     143| 1086568|    1098454|2022|\n",
            "|Almost EVERYONE i...|4AnyhHl3_tE|  2022-08-14|   tech|146978|   11105| 3186890|    3344973|2022|\n",
            "|I bought the THIN...|nmY2kgWYwyQ|  2022-03-25|   tech|363771|   13609|11422924|   11800304|2022|\n",
            "+--------------------+-----------+------------+-------+------+--------+--------+-----------+----+\n",
            "only showing top 20 rows\n",
            "\n"
          ]
        }
      ]
    },
    {
      "cell_type": "code",
      "source": [
        "df_video=df_video.withColumn('Published At', df_video['Published At'].cast('date'))\n",
        "df_video.printSchema()\n",
        "df_video.show()"
      ],
      "metadata": {
        "colab": {
          "base_uri": "https://localhost:8080/"
        },
        "id": "AI-xedy7yLXd",
        "outputId": "6ef4ce8f-9657-42e4-e2e9-5f8c83e32413"
      },
      "execution_count": null,
      "outputs": [
        {
          "output_type": "stream",
          "name": "stdout",
          "text": [
            "root\n",
            " |-- Title: string (nullable = true)\n",
            " |-- Video ID: string (nullable = true)\n",
            " |-- Published At: date (nullable = true)\n",
            " |-- Keyword: string (nullable = true)\n",
            " |-- Likes: integer (nullable = true)\n",
            " |-- Comments: integer (nullable = true)\n",
            " |-- Views: integer (nullable = true)\n",
            " |-- Interaction: integer (nullable = true)\n",
            " |-- Year: integer (nullable = true)\n",
            "\n",
            "+--------------------+-----------+------------+-------+------+--------+--------+-----------+----+\n",
            "|               Title|   Video ID|Published At|Keyword| Likes|Comments|   Views|Interaction|Year|\n",
            "+--------------------+-----------+------------+-------+------+--------+--------+-----------+----+\n",
            "|Apple Pay Is Kill...|wAZZ-UWGVHI|  2022-08-23|   tech|  3407|     672|  135612|     139691|2022|\n",
            "|The most EXPENSIV...|b3x28s61q3c|  2022-08-24|   tech| 76779|    4306| 1758063|    1839148|2022|\n",
            "|My New House Gami...|4mgePWWCAmA|  2022-08-23|   tech| 63825|    3338| 1564007|    1631170|2022|\n",
            "|Petrol Vs Liquid ...|kXiYSI7H2b0|  2022-08-23|   tech| 71566|    1426|  922918|     995910|2022|\n",
            "|Best Back to Scho...|ErMwWXQxHp0|  2022-08-08|   tech| 96513|    5155| 1855644|    1957312|2022|\n",
            "|Brewmaster Answer...|18fwz9Itbvo|  2021-11-05|   tech| 33570|    1643|  943119|     978332|2021|\n",
            "|Tech Monopolies: ...|jXf04bhcjbg|  2022-06-13|   tech|135047|    9367| 5937790|    6082204|2022|\n",
            "|I bought the STRA...|2TqOmtTAMRY|  2022-08-07|   tech|216935|   12605| 4782514|    5012054|2022|\n",
            "|15 Emerging Techn...|wLlL46pYcg4|  2021-12-08|   tech| 45565|    2882| 7001236|    7049683|2021|\n",
            "|Toxicologist Answ...|R7qsau3X6Ks|  2022-07-14|   tech| 24252|    1068|  667767|     693087|2022|\n",
            "|Dope Tech: The Mo...|MEiq0oCUb_8|  2022-08-15|   tech|118001|    4123| 2359142|    2481266|2022|\n",
            "|Cool Tech Under $...|pT_9hntWj34|  2022-08-06|   tech| 20999|    3091|  413179|     437269|2022|\n",
            "|Cool Back to Scho...|cj4lxmHQV0o|  2022-08-13|   tech| 15322|     547|  389114|     404983|2022|\n",
            "|Best Tech/EDC Gif...|d-BdIo8_wpA|  2021-12-15|   tech| 17866|     157|  444953|     462976|2021|\n",
            "|My Massive Tech U...|eFhhW6fsAbQ|  2022-07-09|   tech| 13217|     442|  371563|     385222|2022|\n",
            "|Why Millennials A...|N88OE2ZCHBM|  2021-06-04|   tech| 26890|    4999| 1633059|    1664948|2021|\n",
            "|10 Coolest Gadget...|PKATJiyz0iI|  2021-08-13|   tech|  9562|     199|  760249|     770010|2021|\n",
            "|17 Coolest Gadget...|qiMnSaZWf3M|  2022-07-21|   tech| 11743|     143| 1086568|    1098454|2022|\n",
            "|Almost EVERYONE i...|4AnyhHl3_tE|  2022-08-14|   tech|146978|   11105| 3186890|    3344973|2022|\n",
            "|I bought the THIN...|nmY2kgWYwyQ|  2022-03-25|   tech|363771|   13609|11422924|   11800304|2022|\n",
            "+--------------------+-----------+------------+-------+------+--------+--------+-----------+----+\n",
            "only showing top 20 rows\n",
            "\n"
          ]
        }
      ]
    },
    {
      "cell_type": "code",
      "source": [
        "df_video=df_video.withColumn('Year', year(df_video['Published At']))\n",
        "df_video.printSchema()\n",
        "df_video.show()"
      ],
      "metadata": {
        "colab": {
          "base_uri": "https://localhost:8080/"
        },
        "id": "F3jMnFu8z_hq",
        "outputId": "284b7ce1-27fe-4356-c8da-5e68c6ab43d9"
      },
      "execution_count": null,
      "outputs": [
        {
          "output_type": "stream",
          "name": "stdout",
          "text": [
            "root\n",
            " |-- Title: string (nullable = true)\n",
            " |-- Video ID: string (nullable = true)\n",
            " |-- Published At: date (nullable = true)\n",
            " |-- Keyword: string (nullable = true)\n",
            " |-- Likes: integer (nullable = true)\n",
            " |-- Comments: integer (nullable = true)\n",
            " |-- Views: integer (nullable = true)\n",
            " |-- Interaction: integer (nullable = true)\n",
            " |-- Year: integer (nullable = true)\n",
            "\n",
            "+--------------------+-----------+------------+-------+------+--------+--------+-----------+----+\n",
            "|               Title|   Video ID|Published At|Keyword| Likes|Comments|   Views|Interaction|Year|\n",
            "+--------------------+-----------+------------+-------+------+--------+--------+-----------+----+\n",
            "|Apple Pay Is Kill...|wAZZ-UWGVHI|  2022-08-23|   tech|  3407|     672|  135612|     139691|2022|\n",
            "|The most EXPENSIV...|b3x28s61q3c|  2022-08-24|   tech| 76779|    4306| 1758063|    1839148|2022|\n",
            "|My New House Gami...|4mgePWWCAmA|  2022-08-23|   tech| 63825|    3338| 1564007|    1631170|2022|\n",
            "|Petrol Vs Liquid ...|kXiYSI7H2b0|  2022-08-23|   tech| 71566|    1426|  922918|     995910|2022|\n",
            "|Best Back to Scho...|ErMwWXQxHp0|  2022-08-08|   tech| 96513|    5155| 1855644|    1957312|2022|\n",
            "|Brewmaster Answer...|18fwz9Itbvo|  2021-11-05|   tech| 33570|    1643|  943119|     978332|2021|\n",
            "|Tech Monopolies: ...|jXf04bhcjbg|  2022-06-13|   tech|135047|    9367| 5937790|    6082204|2022|\n",
            "|I bought the STRA...|2TqOmtTAMRY|  2022-08-07|   tech|216935|   12605| 4782514|    5012054|2022|\n",
            "|15 Emerging Techn...|wLlL46pYcg4|  2021-12-08|   tech| 45565|    2882| 7001236|    7049683|2021|\n",
            "|Toxicologist Answ...|R7qsau3X6Ks|  2022-07-14|   tech| 24252|    1068|  667767|     693087|2022|\n",
            "|Dope Tech: The Mo...|MEiq0oCUb_8|  2022-08-15|   tech|118001|    4123| 2359142|    2481266|2022|\n",
            "|Cool Tech Under $...|pT_9hntWj34|  2022-08-06|   tech| 20999|    3091|  413179|     437269|2022|\n",
            "|Cool Back to Scho...|cj4lxmHQV0o|  2022-08-13|   tech| 15322|     547|  389114|     404983|2022|\n",
            "|Best Tech/EDC Gif...|d-BdIo8_wpA|  2021-12-15|   tech| 17866|     157|  444953|     462976|2021|\n",
            "|My Massive Tech U...|eFhhW6fsAbQ|  2022-07-09|   tech| 13217|     442|  371563|     385222|2022|\n",
            "|Why Millennials A...|N88OE2ZCHBM|  2021-06-04|   tech| 26890|    4999| 1633059|    1664948|2021|\n",
            "|10 Coolest Gadget...|PKATJiyz0iI|  2021-08-13|   tech|  9562|     199|  760249|     770010|2021|\n",
            "|17 Coolest Gadget...|qiMnSaZWf3M|  2022-07-21|   tech| 11743|     143| 1086568|    1098454|2022|\n",
            "|Almost EVERYONE i...|4AnyhHl3_tE|  2022-08-14|   tech|146978|   11105| 3186890|    3344973|2022|\n",
            "|I bought the THIN...|nmY2kgWYwyQ|  2022-03-25|   tech|363771|   13609|11422924|   11800304|2022|\n",
            "+--------------------+-----------+------------+-------+------+--------+--------+-----------+----+\n",
            "only showing top 20 rows\n",
            "\n"
          ]
        }
      ]
    },
    {
      "cell_type": "code",
      "source": [
        "df_join_video_comments=df_video.join(df_comentario,df_video['Video ID']==df_comentario['Video ID'], 'inner').drop(df_comentario['Video ID'])\n",
        "df_join_video_comments.show()\n",
        "df_join_video_comments.printSchema()"
      ],
      "metadata": {
        "colab": {
          "base_uri": "https://localhost:8080/"
        },
        "id": "Ym1ZDwTu_3e7",
        "outputId": "e1613d7b-17fe-46ec-cdc4-005ca846e21d"
      },
      "execution_count": null,
      "outputs": [
        {
          "output_type": "stream",
          "name": "stdout",
          "text": [
            "+--------------------+-----------+------------+-------+-----+--------+-------+-----------+----+---+--------------------+---------+-------------+\n",
            "|               Title|   Video ID|Published At|Keyword|Likes|Comments|  Views|Interaction|Year|_c0|             Comment|Sentiment|Likes Comment|\n",
            "+--------------------+-----------+------------+-------+-----+--------+-------+-----------+----+---+--------------------+---------+-------------+\n",
            "|Apple Pay Is Kill...|wAZZ-UWGVHI|  2022-08-23|   tech| 3407|     672| 135612|     139691|2022|  0|Let's not forget ...|        1|           95|\n",
            "|Apple Pay Is Kill...|wAZZ-UWGVHI|  2022-08-23|   tech| 3407|     672| 135612|     139691|2022|  1|Here in NZ 50% of...|        0|           19|\n",
            "|Apple Pay Is Kill...|wAZZ-UWGVHI|  2022-08-23|   tech| 3407|     672| 135612|     139691|2022|  2|I will forever ac...|        2|          161|\n",
            "|Apple Pay Is Kill...|wAZZ-UWGVHI|  2022-08-23|   tech| 3407|     672| 135612|     139691|2022|  3|Whenever I go to ...|        0|            8|\n",
            "|Apple Pay Is Kill...|wAZZ-UWGVHI|  2022-08-23|   tech| 3407|     672| 135612|     139691|2022|  4|Apple Pay is so c...|        2|           34|\n",
            "|Apple Pay Is Kill...|wAZZ-UWGVHI|  2022-08-23|   tech| 3407|     672| 135612|     139691|2022|  5|We’ve been houndi...|        1|            8|\n",
            "|Apple Pay Is Kill...|wAZZ-UWGVHI|  2022-08-23|   tech| 3407|     672| 135612|     139691|2022|  6|We only got Apple...|        2|           29|\n",
            "|Apple Pay Is Kill...|wAZZ-UWGVHI|  2022-08-23|   tech| 3407|     672| 135612|     139691|2022|  7|For now, I need b...|        1|            7|\n",
            "|Apple Pay Is Kill...|wAZZ-UWGVHI|  2022-08-23|   tech| 3407|     672| 135612|     139691|2022|  8|In the United Sta...|        2|            2|\n",
            "|Apple Pay Is Kill...|wAZZ-UWGVHI|  2022-08-23|   tech| 3407|     672| 135612|     139691|2022|  9|In Cambodia, we h...|        1|           28|\n",
            "|The most EXPENSIV...|b3x28s61q3c|  2022-08-24|   tech|76779|    4306|1758063|    1839148|2022| 10|Wow, you really w...|        2|         1344|\n",
            "|The most EXPENSIV...|b3x28s61q3c|  2022-08-24|   tech|76779|    4306|1758063|    1839148|2022| 11|The lab is the mo...|        2|          198|\n",
            "|The most EXPENSIV...|b3x28s61q3c|  2022-08-24|   tech|76779|    4306|1758063|    1839148|2022| 12|Linus, I'm an eng...|        2|          365|\n",
            "|The most EXPENSIV...|b3x28s61q3c|  2022-08-24|   tech|76779|    4306|1758063|    1839148|2022| 13|There used to be ...|        2|          211|\n",
            "|The most EXPENSIV...|b3x28s61q3c|  2022-08-24|   tech|76779|    4306|1758063|    1839148|2022| 14|Holy crap. I was ...|        0|          821|\n",
            "|The most EXPENSIV...|b3x28s61q3c|  2022-08-24|   tech|76779|    4306|1758063|    1839148|2022| 15|I love the direct...|        2|          150|\n",
            "|The most EXPENSIV...|b3x28s61q3c|  2022-08-24|   tech|76779|    4306|1758063|    1839148|2022| 16|I am more excited...|        2|           49|\n",
            "|The most EXPENSIV...|b3x28s61q3c|  2022-08-24|   tech|76779|    4306|1758063|    1839148|2022| 17|I adore the worki...|        2|           19|\n",
            "|The most EXPENSIV...|b3x28s61q3c|  2022-08-24|   tech|76779|    4306|1758063|    1839148|2022| 18|LMGs growth is ho...|     NULL|         NULL|\n",
            "|The most EXPENSIV...|b3x28s61q3c|  2022-08-24|   tech|76779|    4306|1758063|    1839148|2022| 19|I love all the pe...|        2|         2808|\n",
            "+--------------------+-----------+------------+-------+-----+--------+-------+-----------+----+---+--------------------+---------+-------------+\n",
            "only showing top 20 rows\n",
            "\n",
            "root\n",
            " |-- Title: string (nullable = true)\n",
            " |-- Video ID: string (nullable = true)\n",
            " |-- Published At: date (nullable = true)\n",
            " |-- Keyword: string (nullable = true)\n",
            " |-- Likes: integer (nullable = true)\n",
            " |-- Comments: integer (nullable = true)\n",
            " |-- Views: integer (nullable = true)\n",
            " |-- Interaction: integer (nullable = true)\n",
            " |-- Year: integer (nullable = true)\n",
            " |-- _c0: string (nullable = true)\n",
            " |-- Comment: string (nullable = true)\n",
            " |-- Sentiment: integer (nullable = true)\n",
            " |-- Likes Comment: integer (nullable = true)\n",
            "\n"
          ]
        }
      ]
    },
    {
      "cell_type": "code",
      "source": [
        "df_us_videos=Spark.read.csv('USvideos.csv', header=True, inferSchema=True)\n",
        "df_us_videos.printSchema()\n",
        "df_us_videos.show()"
      ],
      "metadata": {
        "colab": {
          "base_uri": "https://localhost:8080/"
        },
        "id": "9Ahl7uUyviq6",
        "outputId": "a925e23c-098b-4108-a420-d5e45584d806"
      },
      "execution_count": null,
      "outputs": [
        {
          "output_type": "stream",
          "name": "stdout",
          "text": [
            "root\n",
            " |-- video_id: string (nullable = true)\n",
            " |-- trending_date: string (nullable = true)\n",
            " |-- title: string (nullable = true)\n",
            " |-- channel_title: string (nullable = true)\n",
            " |-- category_id: string (nullable = true)\n",
            " |-- publish_time: string (nullable = true)\n",
            " |-- tags: string (nullable = true)\n",
            " |-- views: string (nullable = true)\n",
            " |-- likes: string (nullable = true)\n",
            " |-- dislikes: string (nullable = true)\n",
            " |-- comment_count: string (nullable = true)\n",
            " |-- thumbnail_link: string (nullable = true)\n",
            " |-- comments_disabled: string (nullable = true)\n",
            " |-- ratings_disabled: string (nullable = true)\n",
            " |-- video_error_or_removed: string (nullable = true)\n",
            " |-- description: string (nullable = true)\n",
            "\n",
            "+-----------+-------------+--------------------+--------------------+-----------+--------------------+--------------------+-------+------+--------+-------------+--------------------+-----------------+----------------+----------------------+--------------------+\n",
            "|   video_id|trending_date|               title|       channel_title|category_id|        publish_time|                tags|  views| likes|dislikes|comment_count|      thumbnail_link|comments_disabled|ratings_disabled|video_error_or_removed|         description|\n",
            "+-----------+-------------+--------------------+--------------------+-----------+--------------------+--------------------+-------+------+--------+-------------+--------------------+-----------------+----------------+----------------------+--------------------+\n",
            "|2kyS6SvSYSE|     17.14.11|WE WANT TO TALK A...|        CaseyNeistat|         22|2017-11-13T17:13:...|     SHANtell martin| 748374| 57527|    2966|        15954|https://i.ytimg.c...|            False|           False|                 False|SHANTELL'S CHANNE...|\n",
            "|1ZAPwfrtAFY|     17.14.11|The Trump Preside...|     LastWeekTonight|         24|2017-11-13T07:30:...|\"last week tonigh...|2418783| 97185|    6146|        12703|https://i.ytimg.c...|            False|           False|                 False|One year after th...|\n",
            "|5qpjK5DgCt4|     17.14.11|Racist Superman |...|        Rudy Mancuso|         23|2017-11-12T19:05:...|\"racist superman\"...|3191434|146033|    5339|         8181|https://i.ytimg.c...|            False|           False|                 False|WATCH MY PREVIOUS...|\n",
            "|puqaWrEC7tY|     17.14.11|Nickelback Lyrics...|Good Mythical Mor...|         24|2017-11-13T11:00:...|\"rhett and link\"|...| 343168| 10172|     666|         2146|https://i.ytimg.c...|            False|           False|                 False|Today we find out...|\n",
            "|d380meD0W0M|     17.14.11|I Dare You: GOING...|            nigahiga|         24|2017-11-12T18:01:...|\"ryan\"|\"higa\"|\"hi...|2095731|132235|    1989|        17518|https://i.ytimg.c...|            False|           False|                 False|I know it's been ...|\n",
            "|gHZ1Qz0KiKM|     17.14.11|2 Weeks with iPho...|            iJustine|         28|2017-11-13T19:07:...|\"ijustine\"|\"week ...| 119180|  9763|     511|         1434|https://i.ytimg.c...|            False|           False|                 False|Using the iPhone ...|\n",
            "|39idVpFF7NQ|     17.14.11|Roy Moore & Jeff ...| Saturday Night Live|         24|2017-11-12T05:37:...|\"SNL\"|\"Saturday N...|2103417| 15993|    2445|         1970|https://i.ytimg.c...|            False|           False|                 False|Embattled Alabama...|\n",
            "|nc99ccSXST0|     17.14.11|5 Ice Cream Gadge...|  CrazyRussianHacker|         28|2017-11-12T21:50:...|\"5 Ice Cream Gadg...| 817732| 23663|     778|         3432|https://i.ytimg.c...|            False|           False|                 False|Ice Cream Pint Co...|\n",
            "|jr9QtXwC9vc|     17.14.11|The Greatest Show...|    20th Century Fox|          1|2017-11-13T14:00:...|\"Trailer\"|\"Hugh J...| 826059|  3543|     119|          340|https://i.ytimg.c...|            False|           False|                 False|Inspired by the i...|\n",
            "|TUmyygCMMGA|     17.14.11|Why the rise of t...|                 Vox|         25|2017-11-13T13:45:...|\"vox.com\"|\"vox\"|\"...| 256426| 12654|    1363|         2368|https://i.ytimg.c...|            False|           False|                 False|For now, at least...|\n",
            "|9wRQljFNDW8|     17.14.11|Dion Lewis' 103-Y...|                 NFL|         17|2017-11-13T02:05:...|\"NFL\"|\"Football\"|...|  81377|   655|      25|          177|https://i.ytimg.c...|            False|           False|                 False|New England Patri...|\n",
            "|VifQlJit6A0|     17.14.11|(SPOILERS) 'Shiva...|                 amc|         24|2017-11-13T03:00:...|\"The Walking Dead...| 104578|  1576|     303|         1279|https://i.ytimg.c...|            False|           False|                 False|Shiva arrives jus...|\n",
            "|5E4ZBSInqUU|     17.14.11|Marshmello - Bloc...|          marshmello|         10|2017-11-13T17:00:...|\"marshmello\"|\"blo...| 687582|114188|    1333|         8371|https://i.ytimg.c...|            False|           False|                 False|WATCH SILENCE MUS...|\n",
            "|GgVmn66oK_A|     17.14.11|Which Countries A...|       NowThis World|         25|2017-11-12T14:00:...|\"nowthis\"|\"nowthi...| 544770|  7848|    1171|         3981|https://i.ytimg.c...|            False|           False|                 False|The world at larg...|\n",
            "|TaTleo4cOs8|     17.14.11|SHOPPING FOR NEW ...|     The king of DIY|         15|2017-11-12T18:30:...|\"shopping for new...| 207532|  7473|     246|         2120|https://i.ytimg.c...|            False|           False|                 False|Today we go shopp...|\n",
            "|kgaO45SyaO4|     17.14.11|    The New SpotMini|      BostonDynamics|         28|2017-11-13T20:09:...|\"Robots\"|\"Boston ...|  75752|  9419|      52|         1230|https://i.ytimg.c...|            False|           False|                 False|For more informat...|\n",
            "|ZAQs-ctOqXQ|     17.14.11|One Change That W...|             Cracked|         23|2017-11-12T17:00:...|\"pacific rim\"|\"pa...| 295639|  8011|     638|         1256|https://i.ytimg.c...|            False|           False|                 False|Pacific Rim was s...|\n",
            "|YVfyYrEmzgM|     17.14.11|How does your bod...|              TED-Ed|         27|2017-11-13T16:00:...|\"TED\"|\"TED-Ed\"|\"T...|  78044|  5398|      53|          385|https://i.ytimg.c...|            False|           False|                 False|Check out our Pat...|\n",
            "|eNSN6qet1kE|     17.14.11|HomeMade Electric...|         PeterSripol|         28|2017-11-13T15:30:...|\"ultralight\"|\"air...|  97007| 11963|      36|         2211|https://i.ytimg.c...|            False|           False|                 False|aaaannnd now to f...|\n",
            "|B5HORANmzHw|     17.14.11|Founding An Inbre...|             SciShow|         27|2017-11-12T22:00:...|\"SciShow\"|\"scienc...| 223871|  8421|     191|         1214|https://i.ytimg.c...|            False|           False|                 False|Thanks to 23AndMe...|\n",
            "+-----------+-------------+--------------------+--------------------+-----------+--------------------+--------------------+-------+------+--------+-------------+--------------------+-----------------+----------------+----------------------+--------------------+\n",
            "only showing top 20 rows\n",
            "\n"
          ]
        }
      ]
    },
    {
      "cell_type": "code",
      "source": [
        "df_join_video_usvideos=df_video.join(df_us_videos,df_video['title']==df_us_videos['title'], 'inner')\n",
        "df_join_video_usvideos.show()\n",
        "df_join_video_usvideos.printSchema()"
      ],
      "metadata": {
        "colab": {
          "base_uri": "https://localhost:8080/"
        },
        "id": "oEfGoY5mwIX-",
        "outputId": "03f48f7c-1ba5-4a21-ec7e-9349e969fc35"
      },
      "execution_count": null,
      "outputs": [
        {
          "output_type": "stream",
          "name": "stdout",
          "text": [
            "+--------------------+-----------+------------+----------------+------+--------+---------+-----------+----+-----------+-------------+--------------------+-----------------+-----------+--------------------+--------------------+--------+------+--------+-------------+--------------------+-----------------+----------------+----------------------+--------------------+\n",
            "|               Title|   Video ID|Published At|         Keyword| Likes|Comments|    Views|Interaction|Year|   video_id|trending_date|               title|    channel_title|category_id|        publish_time|                tags|   views| likes|dislikes|comment_count|      thumbnail_link|comments_disabled|ratings_disabled|video_error_or_removed|         description|\n",
            "+--------------------+-----------+------------+----------------+------+--------+---------+-----------+----+-----------+-------------+--------------------+-----------------+-----------+--------------------+--------------------+--------+------+--------+-------------+--------------------+-----------------+----------------+----------------------+--------------------+\n",
            "|All Sports Golf B...|-RmUADCWI4A|  2017-12-04|          sports|867074|   43024|106014469|  106924567|2017|-RmUADCWI4A|     17.06.12|All Sports Golf B...|     Dude Perfect|         17|2017-12-04T22:57:...|\"dude perfect\"|\"d...| 8643326|299731|    5168|        23303|https://i.ytimg.c...|            False|           False|                 False|Golf + every othe...|\n",
            "|All Sports Golf B...|-RmUADCWI4A|  2017-12-04|          sports|867074|   43024|106014469|  106924567|2017|-RmUADCWI4A|     17.07.12|All Sports Golf B...|     Dude Perfect|         17|2017-12-04T22:57:...|\"dude perfect\"|\"d...| 9828746|316976|    5797|        23221|https://i.ytimg.c...|            False|           False|                 False|Golf + every othe...|\n",
            "|All Sports Golf B...|-RmUADCWI4A|  2017-12-04|          sports|867074|   43024|106014469|  106924567|2017|-RmUADCWI4A|     17.08.12|All Sports Golf B...|     Dude Perfect|         17|2017-12-04T22:57:...|\"dude perfect\"|\"d...|10558591|325479|    6104|        24107|https://i.ytimg.c...|            False|           False|                 False|Golf + every othe...|\n",
            "|All Sports Golf B...|-RmUADCWI4A|  2017-12-04|          sports|867074|   43024|106014469|  106924567|2017|-RmUADCWI4A|     17.09.12|All Sports Golf B...|     Dude Perfect|         17|2017-12-04T22:57:...|\"dude perfect\"|\"d...|11319116|334495|    6430|        25199|https://i.ytimg.c...|            False|           False|                 False|Golf + every othe...|\n",
            "|All Sports Golf B...|-RmUADCWI4A|  2017-12-04|          sports|867074|   43024|106014469|  106924567|2017|-RmUADCWI4A|     17.10.12|All Sports Golf B...|     Dude Perfect|         17|2017-12-04T22:57:...|\"dude perfect\"|\"d...|12305961|342825|    6898|        25905|https://i.ytimg.c...|            False|           False|                 False|Golf + every othe...|\n",
            "|All Sports Golf B...|-RmUADCWI4A|  2017-12-04|          sports|867074|   43024|106014469|  106924567|2017|-RmUADCWI4A|     17.11.12|All Sports Golf B...|     Dude Perfect|         17|2017-12-04T22:57:...|\"dude perfect\"|\"d...|13250970|349766|    7437|        26489|https://i.ytimg.c...|            False|           False|                 False|Golf + every othe...|\n",
            "|All Sports Golf B...|-RmUADCWI4A|  2017-12-04|          sports|867074|   43024|106014469|  106924567|2017|-RmUADCWI4A|     17.12.12|All Sports Golf B...|     Dude Perfect|         17|2017-12-04T22:57:...|\"dude perfect\"|\"d...|14107720|356297|    7889|        27012|https://i.ytimg.c...|            False|           False|                 False|Golf + every othe...|\n",
            "|      Map of Biology|wENhHnJI1ys|  2017-12-09|         biology| 26530|     818|   602137|     629485|2017|wENhHnJI1ys|     17.13.12|      Map of Biology|Domain of Science|         28|2017-12-09T15:32:...|\"science\"|\"biolog...|   30134|  2747|      17|          233|https://i.ytimg.c...|            False|           False|                 False|Biology is the su...|\n",
            "|      Map of Biology|wENhHnJI1ys|  2017-12-09|         biology| 26530|     818|   602137|     629485|2017|wENhHnJI1ys|     17.14.12|      Map of Biology|Domain of Science|         28|2017-12-09T15:32:...|\"science\"|\"biolog...|   31928|  2843|      17|          230|https://i.ytimg.c...|            False|           False|                 False|Biology is the su...|\n",
            "|  How Machines Learn|R9OHn5ZF4Uo|  2017-12-18|machine learning| 10441|     172|   515395|     526008|2017|R9OHn5ZF4Uo|     17.20.12|  How Machines Learn|         CGP Grey|         27|2017-12-18T14:39:...|\"cgpgrey\"|\"educat...| 1227348|155986|     916|         9335|https://i.ytimg.c...|            False|           False|                 False|How do all the al...|\n",
            "|  How Machines Learn|R9OHn5ZF4Uo|  2017-12-18|machine learning| 10441|     172|   515395|     526008|2017|R9OHn5ZF4Uo|     17.21.12|  How Machines Learn|         CGP Grey|         27|2017-12-18T14:39:...|\"cgpgrey\"|\"educat...| 1515895|166667|    1169|         9820|https://i.ytimg.c...|            False|           False|                 False|How do all the al...|\n",
            "|  How Machines Learn|R9OHn5ZF4Uo|  2017-12-18|machine learning| 10441|     172|   515395|     526008|2017|R9OHn5ZF4Uo|     17.22.12|  How Machines Learn|         CGP Grey|         27|2017-12-18T14:39:...|\"cgpgrey\"|\"educat...| 1570967|171457|    1204|        10048|https://i.ytimg.c...|            False|           False|                 False|How do all the al...|\n",
            "|  How Machines Learn|R9OHn5ZF4Uo|  2017-12-18|machine learning| 10441|     172|   515395|     526008|2017|R9OHn5ZF4Uo|     17.23.12|  How Machines Learn|         CGP Grey|         27|2017-12-18T14:39:...|\"cgpgrey\"|\"educat...| 1610875|174918|    1225|        10185|https://i.ytimg.c...|            False|           False|                 False|How do all the al...|\n",
            "|  How Machines Learn|R9OHn5ZF4Uo|  2017-12-18|machine learning| 10441|     172|   515395|     526008|2017|R9OHn5ZF4Uo|     17.24.12|  How Machines Learn|         CGP Grey|         27|2017-12-18T14:39:...|\"cgpgrey\"|\"educat...| 1646752|178160|    1239|        10347|https://i.ytimg.c...|            False|           False|                 False|How do all the al...|\n",
            "|  How Machines Learn|R9OHn5ZF4Uo|  2017-12-18|machine learning| 10441|     172|   515395|     526008|2017|R9OHn5ZF4Uo|     17.25.12|  How Machines Learn|         CGP Grey|         27|2017-12-18T14:39:...|\"cgpgrey\"|\"educat...| 1677991|180305|    1253|        10439|https://i.ytimg.c...|            False|           False|                 False|How do all the al...|\n",
            "|  How Machines Learn|R9OHn5ZF4Uo|  2017-12-18|machine learning| 10441|     172|   515395|     526008|2017|R9OHn5ZF4Uo|     17.26.12|  How Machines Learn|         CGP Grey|         27|2017-12-18T14:39:...|\"cgpgrey\"|\"educat...| 1712379|182958|    1271|        10578|https://i.ytimg.c...|            False|           False|                 False|How do all the al...|\n",
            "|  How Machines Learn|R9OHn5ZF4Uo|  2017-12-18|machine learning| 10441|     172|   515395|     526008|2017|R9OHn5ZF4Uo|     17.27.12|  How Machines Learn|         CGP Grey|         27|2017-12-18T14:39:...|\"cgpgrey\"|\"educat...| 1745698|185788|    1292|        10688|https://i.ytimg.c...|            False|           False|                 False|How do all the al...|\n",
            "|  How Machines Learn|R9OHn5ZF4Uo|  2017-12-18|machine learning| 10441|     172|   515395|     526008|2017|R9OHn5ZF4Uo|     17.28.12|  How Machines Learn|         CGP Grey|         27|2017-12-18T14:39:...|\"cgpgrey\"|\"educat...| 1769751|187892|    1298|        10742|https://i.ytimg.c...|            False|           False|                 False|How do all the al...|\n",
            "+--------------------+-----------+------------+----------------+------+--------+---------+-----------+----+-----------+-------------+--------------------+-----------------+-----------+--------------------+--------------------+--------+------+--------+-------------+--------------------+-----------------+----------------+----------------------+--------------------+\n",
            "\n",
            "root\n",
            " |-- Title: string (nullable = true)\n",
            " |-- Video ID: string (nullable = true)\n",
            " |-- Published At: date (nullable = true)\n",
            " |-- Keyword: string (nullable = true)\n",
            " |-- Likes: integer (nullable = true)\n",
            " |-- Comments: integer (nullable = true)\n",
            " |-- Views: integer (nullable = true)\n",
            " |-- Interaction: integer (nullable = true)\n",
            " |-- Year: integer (nullable = true)\n",
            " |-- video_id: string (nullable = true)\n",
            " |-- trending_date: string (nullable = true)\n",
            " |-- title: string (nullable = true)\n",
            " |-- channel_title: string (nullable = true)\n",
            " |-- category_id: string (nullable = true)\n",
            " |-- publish_time: string (nullable = true)\n",
            " |-- tags: string (nullable = true)\n",
            " |-- views: string (nullable = true)\n",
            " |-- likes: string (nullable = true)\n",
            " |-- dislikes: string (nullable = true)\n",
            " |-- comment_count: string (nullable = true)\n",
            " |-- thumbnail_link: string (nullable = true)\n",
            " |-- comments_disabled: string (nullable = true)\n",
            " |-- ratings_disabled: string (nullable = true)\n",
            " |-- video_error_or_removed: string (nullable = true)\n",
            " |-- description: string (nullable = true)\n",
            "\n"
          ]
        }
      ]
    },
    {
      "cell_type": "code",
      "source": [
        "luna=['Title','Video ID','Published At','Keyword','Likes','Comments','Views','Interaction','Year']\n",
        "for col in luna:\n",
        "  nulo = df_video.filter(df_video[col].isNull()).count()\n",
        "  print(nulo)"
      ],
      "metadata": {
        "colab": {
          "base_uri": "https://localhost:8080/"
        },
        "id": "scd07g52jci5",
        "outputId": "0e3322ce-eb67-4a98-ed59-0cc91eea3524"
      },
      "execution_count": null,
      "outputs": [
        {
          "output_type": "stream",
          "name": "stdout",
          "text": [
            "0\n",
            "0\n",
            "0\n",
            "0\n",
            "0\n",
            "0\n",
            "0\n",
            "0\n",
            "0\n"
          ]
        }
      ]
    },
    {
      "cell_type": "code",
      "source": [
        "df_video=df_video.drop('_c0')\n",
        "df_video.show()"
      ],
      "metadata": {
        "colab": {
          "base_uri": "https://localhost:8080/"
        },
        "id": "IUn3gepzyJx3",
        "outputId": "09536516-6ccd-4583-caa1-27e490aff7c8"
      },
      "execution_count": null,
      "outputs": [
        {
          "output_type": "stream",
          "name": "stdout",
          "text": [
            "+--------------------+-----------+------------+-------+------+--------+--------+-----------+----+\n",
            "|               Title|   Video ID|Published At|Keyword| Likes|Comments|   Views|Interaction|Year|\n",
            "+--------------------+-----------+------------+-------+------+--------+--------+-----------+----+\n",
            "|Apple Pay Is Kill...|wAZZ-UWGVHI|  2022-08-23|   tech|  3407|     672|  135612|     139691|2022|\n",
            "|The most EXPENSIV...|b3x28s61q3c|  2022-08-24|   tech| 76779|    4306| 1758063|    1839148|2022|\n",
            "|My New House Gami...|4mgePWWCAmA|  2022-08-23|   tech| 63825|    3338| 1564007|    1631170|2022|\n",
            "|Petrol Vs Liquid ...|kXiYSI7H2b0|  2022-08-23|   tech| 71566|    1426|  922918|     995910|2022|\n",
            "|Best Back to Scho...|ErMwWXQxHp0|  2022-08-08|   tech| 96513|    5155| 1855644|    1957312|2022|\n",
            "|Brewmaster Answer...|18fwz9Itbvo|  2021-11-05|   tech| 33570|    1643|  943119|     978332|2021|\n",
            "|Tech Monopolies: ...|jXf04bhcjbg|  2022-06-13|   tech|135047|    9367| 5937790|    6082204|2022|\n",
            "|I bought the STRA...|2TqOmtTAMRY|  2022-08-07|   tech|216935|   12605| 4782514|    5012054|2022|\n",
            "|15 Emerging Techn...|wLlL46pYcg4|  2021-12-08|   tech| 45565|    2882| 7001236|    7049683|2021|\n",
            "|Toxicologist Answ...|R7qsau3X6Ks|  2022-07-14|   tech| 24252|    1068|  667767|     693087|2022|\n",
            "|Dope Tech: The Mo...|MEiq0oCUb_8|  2022-08-15|   tech|118001|    4123| 2359142|    2481266|2022|\n",
            "|Cool Tech Under $...|pT_9hntWj34|  2022-08-06|   tech| 20999|    3091|  413179|     437269|2022|\n",
            "|Cool Back to Scho...|cj4lxmHQV0o|  2022-08-13|   tech| 15322|     547|  389114|     404983|2022|\n",
            "|Best Tech/EDC Gif...|d-BdIo8_wpA|  2021-12-15|   tech| 17866|     157|  444953|     462976|2021|\n",
            "|My Massive Tech U...|eFhhW6fsAbQ|  2022-07-09|   tech| 13217|     442|  371563|     385222|2022|\n",
            "|Why Millennials A...|N88OE2ZCHBM|  2021-06-04|   tech| 26890|    4999| 1633059|    1664948|2021|\n",
            "|10 Coolest Gadget...|PKATJiyz0iI|  2021-08-13|   tech|  9562|     199|  760249|     770010|2021|\n",
            "|17 Coolest Gadget...|qiMnSaZWf3M|  2022-07-21|   tech| 11743|     143| 1086568|    1098454|2022|\n",
            "|Almost EVERYONE i...|4AnyhHl3_tE|  2022-08-14|   tech|146978|   11105| 3186890|    3344973|2022|\n",
            "|I bought the THIN...|nmY2kgWYwyQ|  2022-03-25|   tech|363771|   13609|11422924|   11800304|2022|\n",
            "+--------------------+-----------+------------+-------+------+--------+--------+-----------+----+\n",
            "only showing top 20 rows\n",
            "\n"
          ]
        }
      ]
    },
    {
      "cell_type": "code",
      "source": [
        "df_video.write.mode('overwrite').option('header','true').parquet('videos-tratados-parquet')"
      ],
      "metadata": {
        "id": "Iwk8iiTEz-F-"
      },
      "execution_count": null,
      "outputs": []
    },
    {
      "cell_type": "code",
      "source": [
        "df_join_video_comments=df_join_video_comments.drop('_c0')\n",
        "df_join_video_comments.show()"
      ],
      "metadata": {
        "colab": {
          "base_uri": "https://localhost:8080/"
        },
        "id": "Bj3W66DU1VAw",
        "outputId": "8bc2b8f4-3105-4f62-ab26-c8943e4457b7"
      },
      "execution_count": null,
      "outputs": [
        {
          "output_type": "stream",
          "name": "stdout",
          "text": [
            "+--------------------+-----------+------------+-------+-----+--------+-------+-----------+----+--------------------+---------+-------------+\n",
            "|               Title|   Video ID|Published At|Keyword|Likes|Comments|  Views|Interaction|Year|             Comment|Sentiment|Likes Comment|\n",
            "+--------------------+-----------+------------+-------+-----+--------+-------+-----------+----+--------------------+---------+-------------+\n",
            "|Apple Pay Is Kill...|wAZZ-UWGVHI|  2022-08-23|   tech| 3407|     672| 135612|     139691|2022|Let's not forget ...|        1|           95|\n",
            "|Apple Pay Is Kill...|wAZZ-UWGVHI|  2022-08-23|   tech| 3407|     672| 135612|     139691|2022|Here in NZ 50% of...|        0|           19|\n",
            "|Apple Pay Is Kill...|wAZZ-UWGVHI|  2022-08-23|   tech| 3407|     672| 135612|     139691|2022|I will forever ac...|        2|          161|\n",
            "|Apple Pay Is Kill...|wAZZ-UWGVHI|  2022-08-23|   tech| 3407|     672| 135612|     139691|2022|Whenever I go to ...|        0|            8|\n",
            "|Apple Pay Is Kill...|wAZZ-UWGVHI|  2022-08-23|   tech| 3407|     672| 135612|     139691|2022|Apple Pay is so c...|        2|           34|\n",
            "|Apple Pay Is Kill...|wAZZ-UWGVHI|  2022-08-23|   tech| 3407|     672| 135612|     139691|2022|We’ve been houndi...|        1|            8|\n",
            "|Apple Pay Is Kill...|wAZZ-UWGVHI|  2022-08-23|   tech| 3407|     672| 135612|     139691|2022|We only got Apple...|        2|           29|\n",
            "|Apple Pay Is Kill...|wAZZ-UWGVHI|  2022-08-23|   tech| 3407|     672| 135612|     139691|2022|For now, I need b...|        1|            7|\n",
            "|Apple Pay Is Kill...|wAZZ-UWGVHI|  2022-08-23|   tech| 3407|     672| 135612|     139691|2022|In the United Sta...|        2|            2|\n",
            "|Apple Pay Is Kill...|wAZZ-UWGVHI|  2022-08-23|   tech| 3407|     672| 135612|     139691|2022|In Cambodia, we h...|        1|           28|\n",
            "|The most EXPENSIV...|b3x28s61q3c|  2022-08-24|   tech|76779|    4306|1758063|    1839148|2022|Wow, you really w...|        2|         1344|\n",
            "|The most EXPENSIV...|b3x28s61q3c|  2022-08-24|   tech|76779|    4306|1758063|    1839148|2022|The lab is the mo...|        2|          198|\n",
            "|The most EXPENSIV...|b3x28s61q3c|  2022-08-24|   tech|76779|    4306|1758063|    1839148|2022|Linus, I'm an eng...|        2|          365|\n",
            "|The most EXPENSIV...|b3x28s61q3c|  2022-08-24|   tech|76779|    4306|1758063|    1839148|2022|There used to be ...|        2|          211|\n",
            "|The most EXPENSIV...|b3x28s61q3c|  2022-08-24|   tech|76779|    4306|1758063|    1839148|2022|Holy crap. I was ...|        0|          821|\n",
            "|The most EXPENSIV...|b3x28s61q3c|  2022-08-24|   tech|76779|    4306|1758063|    1839148|2022|I love the direct...|        2|          150|\n",
            "|The most EXPENSIV...|b3x28s61q3c|  2022-08-24|   tech|76779|    4306|1758063|    1839148|2022|I am more excited...|        2|           49|\n",
            "|The most EXPENSIV...|b3x28s61q3c|  2022-08-24|   tech|76779|    4306|1758063|    1839148|2022|I adore the worki...|        2|           19|\n",
            "|The most EXPENSIV...|b3x28s61q3c|  2022-08-24|   tech|76779|    4306|1758063|    1839148|2022|LMGs growth is ho...|     NULL|         NULL|\n",
            "|The most EXPENSIV...|b3x28s61q3c|  2022-08-24|   tech|76779|    4306|1758063|    1839148|2022|I love all the pe...|        2|         2808|\n",
            "+--------------------+-----------+------------+-------+-----+--------+-------+-----------+----+--------------------+---------+-------------+\n",
            "only showing top 20 rows\n",
            "\n"
          ]
        }
      ]
    },
    {
      "cell_type": "code",
      "source": [
        "df_join_video_comments.write.mode('overwrite').option('header', 'true').parquet('videos-comments-tratados-parquet')"
      ],
      "metadata": {
        "id": "9RzxJc_74t8M"
      },
      "execution_count": null,
      "outputs": []
    }
  ]
}